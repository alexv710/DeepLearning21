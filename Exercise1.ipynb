{
 "cells": [
  {
   "cell_type": "code",
   "execution_count": 1,
   "id": "israeli-headset",
   "metadata": {},
   "outputs": [],
   "source": [
    "import numpy as np\n",
    "import matplotlib.pyplot as plt\n",
    "import random"
   ]
  },
  {
   "cell_type": "code",
   "execution_count": 2,
   "id": "single-eating",
   "metadata": {},
   "outputs": [
    {
     "name": "stderr",
     "output_type": "stream",
     "text": [
      "<ipython-input-2-04d092282745>:1: RuntimeWarning: covariance is not positive-semidefinite.\n",
      "  x1, y1 = np.random.multivariate_normal([5,2], [[1, 1], [5, 2]], 50).T\n"
     ]
    },
    {
     "data": {
      "image/png": "[encoded data removed]",
      "text/plain": [
       "<Figure size 432x288 with 1 Axes>"
      ]
     },
     "metadata": {
      "needs_background": "light"
     },
     "output_type": "display_data"
    }
   ],
   "source": [
    "x1, y1 = np.random.multivariate_normal([5,2], [[1, 1], [5, 2]], 50).T\n",
    "x2, y2 = np.random.multivariate_normal([-5,-1], [[1, 0], [0, 2]], 50).T\n",
    "plt.plot(x1, y1, 'x')\n",
    "plt.plot(x2, y2, 'x')\n",
    "plt.axis('equal')\n",
    "plt.show()"
   ]
  },
  {
   "cell_type": "code",
   "execution_count": 3,
   "id": "single-maine",
   "metadata": {},
   "outputs": [],
   "source": [
    "def labelCreator(x,y,label):\n",
    "    xList = []\n",
    "    for i in range(x.shape[0]):\n",
    "        xList.append([x[i], y[i], label])\n",
    "    return xList"
   ]
  },
  {
   "cell_type": "code",
   "execution_count": 4,
   "id": "qualified-discretion",
   "metadata": {},
   "outputs": [],
   "source": [
    "x1Labeled = labelCreator(x1,y1,-1)\n",
    "x2Labeled = labelCreator(x2,y2,1)\n",
    "combinedX = x1Labeled + x2Labeled\n",
    "random.shuffle(combinedX)"
   ]
  },
  {
   "cell_type": "code",
   "execution_count": 5,
   "id": "veterinary-anderson",
   "metadata": {},
   "outputs": [],
   "source": [
    "X = np.delete(combinedX, np.s_[-1:], axis=1)\n",
    "y = np.delete(combinedX, np.s_[:2], axis=1)"
   ]
  },
  {
   "cell_type": "code",
   "execution_count": 6,
   "id": "liquid-impression",
   "metadata": {},
   "outputs": [
    {
     "name": "stdout",
     "output_type": "stream",
     "text": [
      "[[-6.4943822   1.60850938]\n",
      " [-6.27076431 -1.64974986]\n",
      " [-4.96698082 -0.05212647]\n",
      " [-5.59177264 -0.82621316]\n",
      " [ 3.2896446   1.58292559]]\n"
     ]
    },
    {
     "data": {
      "text/plain": [
       "array([ 1.00000000e+00,  1.00000000e+00, -6.49438220e+00,  1.60850938e+00,\n",
       "       -6.27076431e+00, -1.64974986e+00, -4.96698082e+00, -5.21264746e-02,\n",
       "       -5.59177264e+00, -8.26213161e-01,  3.28964460e+00,  1.58292559e+00,\n",
       "       -4.91207235e+00, -2.86538200e+00, -4.73552295e+00, -2.87237989e+00,\n",
       "       -5.29808840e+00, -1.27241356e+00, -6.05955798e+00, -2.27694867e-01,\n",
       "       -6.23536415e+00, -1.32934584e-01, -6.42709069e+00, -2.25470271e+00,\n",
       "        3.52172311e+00,  1.35391588e-01,  1.34893149e+00,  1.22823514e+00,\n",
       "       -5.18980114e+00, -1.45096386e-01,  1.62726999e+00, -3.01469346e-03,\n",
       "       -4.66013578e+00, -1.38287697e+00,  3.48855799e+00,  2.88043858e+00,\n",
       "        6.34972877e+00,  2.49433227e+00,  5.70061108e+00,  2.53230651e+00,\n",
       "       -4.93485323e+00, -3.57124998e+00,  6.30829788e+00,  1.00665647e+00,\n",
       "        3.78992842e+00,  1.67954415e+00,  6.80774463e+00,  3.00973223e+00,\n",
       "        3.57223285e+00,  2.66008769e+00, -5.13864738e+00,  1.09218232e+00,\n",
       "        5.50556720e-01, -6.83385797e-02,  1.03546235e+01,  5.70682369e+00,\n",
       "       -4.29636412e+00, -8.18993710e-01,  3.11202317e+00,  2.05351548e+00,\n",
       "        4.07647876e+00,  1.33267452e+00,  3.80284606e+00,  2.65041970e+00,\n",
       "        3.68968748e+00,  1.34488035e+00, -5.87415179e+00, -2.06954684e+00,\n",
       "        5.47128421e+00,  3.22694154e+00,  3.84720525e+00,  1.25682710e+00,\n",
       "        6.76577224e+00,  2.94891219e+00,  1.22388412e+00,  9.03175527e-01,\n",
       "        3.04483891e+00,  1.85725394e+00, -4.88113776e+00, -2.45136935e+00,\n",
       "       -6.15937812e+00, -9.07378063e-01, -4.71906965e+00,  3.93459236e-01,\n",
       "       -5.65435337e+00,  1.03673636e-02, -8.09461963e+00, -3.38796443e+00,\n",
       "       -4.79531254e+00, -2.23264574e+00, -4.71591485e+00, -9.53336134e-02,\n",
       "       -5.18713132e+00,  5.09734487e-01, -4.91825345e+00, -1.61581548e+00,\n",
       "       -5.77399624e+00, -4.81501245e+00, -8.64021370e-01, -1.30436264e+00,\n",
       "       -4.05807250e+00, -2.31736985e+00, -5.64720378e+00, -1.18821479e+00,\n",
       "        7.15670259e-01,  1.03170625e+00, -5.85183919e+00,  2.70469589e+00,\n",
       "       -3.64298571e+00, -2.57523989e+00, -5.21913381e+00,  1.07443487e-01,\n",
       "        2.09366784e+00,  1.90726531e+00,  9.11944490e+00,  4.51601695e+00,\n",
       "        2.45218402e+00,  6.73094459e-01, -6.24059424e+00, -2.83600496e-01,\n",
       "       -5.54307455e+00, -1.72929683e+00,  4.47736428e+00,  1.38402239e+00,\n",
       "       -6.05706900e+00, -2.51530667e+00,  8.61776992e+00,  4.70166526e+00,\n",
       "        4.24518279e+00,  1.12024620e+00, -4.78927024e+00, -2.21645849e+00,\n",
       "        6.76422035e+00,  1.40280066e+00,  3.63982641e+00,  1.14091366e+00,\n",
       "        1.33713617e+00, -1.31960103e-01, -5.64143480e+00, -1.01149272e+00,\n",
       "       -4.10837830e+00, -2.81935233e+00,  7.36333251e+00,  2.28500793e+00,\n",
       "       -4.75442777e+00, -1.12063245e+00,  4.67433474e+00,  2.65310562e+00,\n",
       "        6.66484935e+00,  3.20469615e+00,  9.03648457e+00,  2.20078024e+00,\n",
       "        8.35826354e+00,  2.94080758e+00, -4.87268613e+00,  4.54723187e-01,\n",
       "       -6.04154491e+00, -1.43795427e+00,  7.55754609e+00,  3.84234289e+00,\n",
       "        8.60257350e+00,  2.45844050e+00,  3.65218509e+00,  1.97470661e+00,\n",
       "        6.02630932e+00,  2.50148445e+00, -5.59316507e+00, -4.86142703e-01,\n",
       "       -3.54525367e+00, -1.47039637e+00, -3.58422136e+00, -4.82252028e-01,\n",
       "       -5.68640104e+00, -1.41964939e+00,  4.13649680e+00,  2.93756656e+00,\n",
       "       -4.46586726e+00,  9.54155749e-01, -5.52657223e+00, -1.18829694e+00,\n",
       "        7.02882353e+00,  3.60797817e+00, -5.52451240e+00, -8.11199399e-01,\n",
       "        7.00584603e+00,  2.31540700e+00,  6.64467457e+00,  4.21180774e+00,\n",
       "        4.17073751e+00,  1.49536404e+00,  5.65881293e+00,  1.56548595e+00,\n",
       "       -4.99189072e+00, -2.10187269e-01, -5.69631802e+00, -2.23693504e+00,\n",
       "        5.44571592e+00,  1.20488832e+00,  4.27458720e+00,  2.04817907e+00,\n",
       "       -5.41339639e+00,  6.67049845e-01])"
      ]
     },
     "execution_count": 6,
     "metadata": {},
     "output_type": "execute_result"
    }
   ],
   "source": [
    "print(X[:5])\n",
    "x = np.insert(X,0,[1,1])\n",
    "x"
   ]
  },
  {
   "cell_type": "code",
   "execution_count": 18,
   "id": "enormous-public",
   "metadata": {},
   "outputs": [],
   "source": [
    "class Perceptron(object):\n",
    "    \"\"\"Implements a perceptron network\"\"\"\n",
    "    def __init__(self, input_size, lr=1, epochs=10):\n",
    "        self.W = np.zeros(input_size+1)\n",
    "        self.lr = lr\n",
    "        self.epochs = epochs\n",
    "        self.YHat = []\n",
    "    \n",
    "    def activation_fn(self, x):\n",
    "        #return (x >= 0).astype(np.float32)\n",
    "        return 1 if x >= 0 else 0\n",
    "    \n",
    "    def predict(self, x):\n",
    "        z = self.W.T.dot(x)\n",
    "        a = self.activation_fn(z)\n",
    "        return a\n",
    "\n",
    "    def fit(self, X, y):\n",
    "        x = np.insert(X,0,1)\n",
    "        for _ in range(self.epochs):\n",
    "            for i in range(y.shape[0]):\n",
    "                x = np.insert(X[i], 0, 1)\n",
    "                yHat = self.predict(x)\n",
    "                self.YHat.append(yHat)\n",
    "                e = y[i] - yHat\n",
    "                self.W = self.W + self.lr * e * x"
   ]
  },
  {
   "cell_type": "code",
   "execution_count": 21,
   "id": "level-cleveland",
   "metadata": {},
   "outputs": [
    {
     "name": "stdout",
     "output_type": "stream",
     "text": [
      "[ -511.         -2401.08833055 -1011.63108082]\n",
      "[1, 1, 1, 1, 1, 1, 1, 1, 1, 1, 1, 0, 0, 1, 0, 1, 0, 0, 0, 1, 0, 0, 0, 0, 1, 0, 0, 1, 0, 0, 0, 0, 1, 0, 0, 0, 0, 0, 1, 1, 1, 1, 1, 1, 1, 1, 1, 1, 1, 1, 1, 0, 1, 1, 1, 0, 0, 0, 1, 1, 0, 1, 0, 0, 1, 0, 0, 0, 1, 1, 0, 1, 0, 0, 0, 0, 1, 1, 0, 0, 0, 0, 1, 1, 1, 1, 0, 1, 1, 0, 1, 0, 0, 0, 0, 1, 1, 0, 0, 1, 1, 1, 1, 1, 0, 1, 1, 1, 1, 1, 1, 0, 0, 1, 0, 1, 0, 0, 0, 1, 0, 0, 0, 0, 1, 0, 0, 1, 0, 0, 0, 0, 1, 0, 0, 0, 0, 0, 1, 1, 1, 1, 1, 1, 1, 1, 1, 1, 1, 1, 1, 0, 1, 1, 1, 0, 0, 0, 1, 1, 0, 1, 0, 0, 1, 0, 0, 0, 1, 1, 0, 1, 0, 0, 0, 0, 1, 1, 0, 0, 0, 0, 1, 1, 1, 1, 0, 1, 1, 0, 1, 0, 0, 0, 0, 1, 1, 0, 0, 1, 1, 1, 1, 1, 0, 1, 1, 1, 1, 1, 1, 0, 0, 1, 0, 1, 0, 0, 0, 1, 0, 0, 0, 0, 1, 0, 0, 1, 0, 0, 0, 0, 1, 0, 0, 0, 0, 0, 1, 1, 1, 1, 1, 1, 1, 1, 1, 1, 1, 1, 1, 0, 1, 1, 1, 0, 0, 0, 1, 1, 0, 1, 0, 0, 1, 0, 0, 0, 1, 1, 0, 1, 0, 0, 0, 0, 1, 1, 0, 0, 0, 0, 1, 1, 1, 1, 0, 1, 1, 0, 1, 0, 0, 0, 0, 1, 1, 0, 0, 1, 1, 1, 1, 1, 0, 1, 1, 1, 1, 1, 1, 0, 0, 1, 0, 1, 0, 0, 0, 1, 0, 0, 0, 0, 1, 0, 0, 1, 0, 0, 0, 0, 1, 0, 0, 0, 0, 0, 1, 1, 1, 1, 1, 1, 1, 1, 1, 1, 1, 1, 1, 0, 1, 1, 1, 0, 0, 0, 1, 1, 0, 1, 0, 0, 1, 0, 0, 0, 1, 1, 0, 1, 0, 0, 0, 0, 1, 1, 0, 0, 0, 0, 1, 1, 1, 1, 0, 1, 1, 0, 1, 0, 0, 0, 0, 1, 1, 0, 0, 1, 1, 1, 1, 1, 0, 1, 1, 1, 1, 1, 1, 0, 0, 1, 0, 1, 0, 0, 0, 1, 0, 0, 0, 0, 1, 0, 0, 1, 0, 0, 0, 0, 1, 0, 0, 0, 0, 0, 1, 1, 1, 1, 1, 1, 1, 1, 1, 1, 1, 1, 1, 0, 1, 1, 1, 0, 0, 0, 1, 1, 0, 1, 0, 0, 1, 0, 0, 0, 1, 1, 0, 1, 0, 0, 0, 0, 1, 1, 0, 0, 0, 0, 1, 1, 1, 1, 0, 1, 1, 0, 1, 0, 0, 0, 0, 1, 1, 0, 0, 1, 1, 1, 1, 1, 0, 1, 1, 1, 1, 1, 1, 0, 0, 1, 0, 1, 0, 0, 0, 1, 0, 0, 0, 0, 1, 0, 0, 1, 0, 0, 0, 0, 1, 0, 0, 0, 0, 0, 1, 1, 1, 1, 1, 1, 1, 1, 1, 1, 1, 1, 1, 0, 1, 1, 1, 0, 0, 0, 1, 1, 0, 1, 0, 0, 1, 0, 0, 0, 1, 1, 0, 1, 0, 0, 0, 0, 1, 1, 0, 0, 0, 0, 1, 1, 1, 1, 0, 1, 1, 0, 1, 0, 0, 0, 0, 1, 1, 0, 0, 1, 1, 1, 1, 1, 0, 1, 1, 1, 1, 1, 1, 0, 0, 1, 0, 1, 0, 0, 0, 1, 0, 0, 0, 0, 1, 0, 0, 1, 0, 0, 0, 0, 1, 0, 0, 0, 0, 0, 1, 1, 1, 1, 1, 1, 1, 1, 1, 1, 1, 1, 1, 0, 1, 1, 1, 0, 0, 0, 1, 1, 0, 1, 0, 0, 1, 0, 0, 0, 1, 1, 0, 1, 0, 0, 0, 0, 1, 1, 0, 0, 0, 0, 1, 1, 1, 1, 0, 1, 1, 0, 1, 0, 0, 0, 0, 1, 1, 0, 0, 1, 1, 1, 1, 1, 0, 1, 1, 1, 1, 1, 1, 0, 0, 1, 0, 1, 0, 0, 0, 1, 0, 0, 0, 0, 1, 0, 0, 1, 0, 0, 0, 0, 1, 0, 0, 0, 0, 0, 1, 1, 1, 1, 1, 1, 1, 1, 1, 1, 1, 1, 1, 0, 1, 1, 1, 0, 0, 0, 1, 1, 0, 1, 0, 0, 1, 0, 0, 0, 1, 1, 0, 1, 0, 0, 0, 0, 1, 1, 0, 0, 0, 0, 1, 1, 1, 1, 0, 1, 1, 0, 1, 0, 0, 0, 0, 1, 1, 0, 0, 1, 1, 1, 1, 1, 0, 1, 1, 1, 1, 1, 1, 0, 0, 1, 0, 1, 0, 0, 0, 1, 0, 0, 0, 0, 1, 0, 0, 1, 0, 0, 0, 0, 1, 0, 0, 0, 0, 0, 1, 1, 1, 1, 1, 1, 1, 1, 1, 1, 1, 1, 1, 0, 1, 1, 1, 0, 0, 0, 1, 1, 0, 1, 0, 0, 1, 0, 0, 0, 1, 1, 0, 1, 0, 0, 0, 0, 1, 1, 0, 0, 0, 0, 1, 1, 1, 1, 0, 1, 1, 0, 1, 0, 0, 0, 0, 1, 1, 0, 0, 1, 1, 1, 1, 1, 0, 1, 1, 1, 1, 1, 1, 0, 0, 1, 0, 1, 0, 0, 0, 1, 0, 0, 0, 0, 1, 0, 0, 1, 0, 0, 0, 0, 1, 0, 0, 0, 0, 0, 1, 1, 1, 1, 1, 1, 1, 1, 1, 1, 1, 1, 1, 0, 1, 1, 1, 0, 0, 0, 1, 1, 0, 1, 0, 0, 1, 0, 0, 0, 1, 1, 0, 1, 0, 0, 0, 0, 1, 1, 0, 0, 0, 0, 1, 1, 1, 1, 0, 1, 1, 0, 1, 0, 0, 0, 0, 1, 1, 0, 0, 1]\n",
      "[[ 1.]\n",
      " [ 1.]\n",
      " [ 1.]\n",
      " [ 1.]\n",
      " [-1.]\n",
      " [ 1.]\n",
      " [ 1.]\n",
      " [ 1.]\n",
      " [ 1.]\n",
      " [ 1.]\n",
      " [ 1.]\n",
      " [-1.]\n",
      " [-1.]\n",
      " [ 1.]\n",
      " [-1.]\n",
      " [ 1.]\n",
      " [-1.]\n",
      " [-1.]\n",
      " [-1.]\n",
      " [ 1.]\n",
      " [-1.]\n",
      " [-1.]\n",
      " [-1.]\n",
      " [-1.]\n",
      " [ 1.]\n",
      " [-1.]\n",
      " [-1.]\n",
      " [ 1.]\n",
      " [-1.]\n",
      " [-1.]\n",
      " [-1.]\n",
      " [-1.]\n",
      " [ 1.]\n",
      " [-1.]\n",
      " [-1.]\n",
      " [-1.]\n",
      " [-1.]\n",
      " [-1.]\n",
      " [ 1.]\n",
      " [ 1.]\n",
      " [ 1.]\n",
      " [ 1.]\n",
      " [ 1.]\n",
      " [ 1.]\n",
      " [ 1.]\n",
      " [ 1.]\n",
      " [ 1.]\n",
      " [ 1.]\n",
      " [-1.]\n",
      " [ 1.]\n",
      " [ 1.]\n",
      " [-1.]\n",
      " [ 1.]\n",
      " [ 1.]\n",
      " [ 1.]\n",
      " [-1.]\n",
      " [-1.]\n",
      " [-1.]\n",
      " [ 1.]\n",
      " [ 1.]\n",
      " [-1.]\n",
      " [ 1.]\n",
      " [-1.]\n",
      " [-1.]\n",
      " [ 1.]\n",
      " [-1.]\n",
      " [-1.]\n",
      " [-1.]\n",
      " [ 1.]\n",
      " [ 1.]\n",
      " [-1.]\n",
      " [ 1.]\n",
      " [-1.]\n",
      " [-1.]\n",
      " [-1.]\n",
      " [-1.]\n",
      " [ 1.]\n",
      " [ 1.]\n",
      " [-1.]\n",
      " [-1.]\n",
      " [-1.]\n",
      " [-1.]\n",
      " [ 1.]\n",
      " [ 1.]\n",
      " [ 1.]\n",
      " [ 1.]\n",
      " [-1.]\n",
      " [ 1.]\n",
      " [ 1.]\n",
      " [-1.]\n",
      " [ 1.]\n",
      " [-1.]\n",
      " [-1.]\n",
      " [-1.]\n",
      " [-1.]\n",
      " [ 1.]\n",
      " [ 1.]\n",
      " [-1.]\n",
      " [-1.]\n",
      " [ 1.]]\n"
     ]
    }
   ],
   "source": [
    "test = Perceptron(2)\n",
    "test.fit(X,y)\n",
    "print(test.W)\n",
    "print(test.YHat)\n",
    "print(y)"
   ]
  },
  {
   "cell_type": "code",
   "execution_count": 10,
   "id": "creative-reception",
   "metadata": {},
   "outputs": [
    {
     "data": {
      "text/plain": [
       "array([ -511.        , -2401.08833055, -1011.63108082])"
      ]
     },
     "execution_count": 10,
     "metadata": {},
     "output_type": "execute_result"
    }
   ],
   "source": []
  },
  {
   "cell_type": "code",
   "execution_count": 28,
   "id": "utility-russia",
   "metadata": {},
   "outputs": [
    {
     "ename": "NameError",
     "evalue": "name 'figsize' is not defined",
     "output_type": "error",
     "traceback": [
      "\u001b[1;31m---------------------------------------------------------------------------\u001b[0m",
      "\u001b[1;31mNameError\u001b[0m                                 Traceback (most recent call last)",
      "\u001b[1;32m<ipython-input-28-bdb182f01fdf>\u001b[0m in \u001b[0;36m<module>\u001b[1;34m\u001b[0m\n\u001b[1;32m----> 1\u001b[1;33m \u001b[0mfig\u001b[0m \u001b[1;33m=\u001b[0m \u001b[0mplt\u001b[0m\u001b[1;33m.\u001b[0m\u001b[0mfigure\u001b[0m\u001b[1;33m(\u001b[0m\u001b[1;33m[\u001b[0m\u001b[0mfigsize\u001b[0m\u001b[1;33m]\u001b[0m\u001b[1;33m)\u001b[0m\u001b[1;33m\u001b[0m\u001b[1;33m\u001b[0m\u001b[0m\n\u001b[0m\u001b[0;32m      2\u001b[0m \u001b[0mfig\u001b[0m\u001b[1;33m.\u001b[0m\u001b[0madd_subplot\u001b[0m\u001b[1;33m(\u001b[0m\u001b[0mRCI\u001b[0m\u001b[1;33m,\u001b[0m \u001b[1;33m[\u001b[0m\u001b[0mprojection\u001b[0m\u001b[1;33m]\u001b[0m\u001b[1;33m)\u001b[0m\u001b[1;33m\u001b[0m\u001b[1;33m\u001b[0m\u001b[0m\n\u001b[0;32m      3\u001b[0m \u001b[0max\u001b[0m \u001b[1;33m=\u001b[0m \u001b[0mfig\u001b[0m\u001b[1;33m.\u001b[0m\u001b[0madd_subplot\u001b[0m\u001b[1;33m(\u001b[0m\u001b[1;36m111\u001b[0m\u001b[1;33m,\u001b[0m \u001b[0mprojection\u001b[0m\u001b[1;33m=\u001b[0m\u001b[1;34m\"3d\"\u001b[0m\u001b[1;33m)\u001b[0m\u001b[1;33m\u001b[0m\u001b[1;33m\u001b[0m\u001b[0m\n",
      "\u001b[1;31mNameError\u001b[0m: name 'figsize' is not defined"
     ]
    }
   ],
   "source": [
    "fig = plt.figure([figsize])\n",
    "fig.add_subplot(RCI, [projection])\n",
    "ax = fig.add_subplot(111, projection=\"3d\")"
   ]
  },
  {
   "cell_type": "code",
   "execution_count": 23,
   "id": "suited-centre",
   "metadata": {},
   "outputs": [],
   "source": [
    "xx, yy = np.meshgrid(X[0],X[1]), y"
   ]
  },
  {
   "cell_type": "code",
   "execution_count": 24,
   "id": "greatest-empty",
   "metadata": {},
   "outputs": [
    {
     "ename": "NameError",
     "evalue": "name 'ax' is not defined",
     "output_type": "error",
     "traceback": [
      "\u001b[1;31m---------------------------------------------------------------------------\u001b[0m",
      "\u001b[1;31mNameError\u001b[0m                                 Traceback (most recent call last)",
      "\u001b[1;32m<ipython-input-24-1d0a16ba26f7>\u001b[0m in \u001b[0;36m<module>\u001b[1;34m\u001b[0m\n\u001b[1;32m----> 1\u001b[1;33m \u001b[0max\u001b[0m\u001b[1;33m.\u001b[0m\u001b[0mplot_surface\u001b[0m\u001b[1;33m(\u001b[0m\u001b[0mxx\u001b[0m\u001b[1;33m,\u001b[0m \u001b[0myy\u001b[0m\u001b[1;33m,\u001b[0m \u001b[0my\u001b[0m\u001b[1;33m)\u001b[0m\u001b[1;33m\u001b[0m\u001b[1;33m\u001b[0m\u001b[0m\n\u001b[0m",
      "\u001b[1;31mNameError\u001b[0m: name 'ax' is not defined"
     ]
    }
   ],
   "source": [
    "ax.plot_surface(xx, yy, y)"
   ]
  }
 ],
 "metadata": {
  "kernelspec": {
   "display_name": "Python 3",
   "language": "python",
   "name": "python3"
  },
  "language_info": {
   "codemirror_mode": {
    "name": "ipython",
    "version": 3
   },
   "file_extension": ".py",
   "mimetype": "text/x-python",
   "name": "python",
   "nbconvert_exporter": "python",
   "pygments_lexer": "ipython3",
   "version": "3.8.8"
  }
 },
 "nbformat": 4,
 "nbformat_minor": 5
}
